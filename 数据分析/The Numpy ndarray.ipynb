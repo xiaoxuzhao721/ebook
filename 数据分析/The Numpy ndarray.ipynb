{
 "cells": [
  {
   "cell_type": "code",
   "execution_count": 1,
   "metadata": {},
   "outputs": [],
   "source": [
    "import numpy as np"
   ]
  },
  {
   "cell_type": "code",
   "execution_count": 4,
   "metadata": {},
   "outputs": [],
   "source": [
    "data  = np.random.randn(5,6)"
   ]
  },
  {
   "cell_type": "code",
   "execution_count": 6,
   "metadata": {},
   "outputs": [
    {
     "data": {
      "text/plain": [
       "array([[-0.40170442, -2.09651023,  0.17936822,  0.09477015, -0.14118068,\n",
       "         0.4891378 ],\n",
       "       [ 0.26277083,  0.07843127,  0.75722355, -0.98893235,  0.26578375,\n",
       "         0.71156282],\n",
       "       [ 1.5052628 , -1.68190781, -0.25377229,  0.77344318, -0.41420951,\n",
       "         0.90727025],\n",
       "       [-0.05329999, -0.27240695,  0.78130084, -0.29209146,  1.07729135,\n",
       "        -0.58881409],\n",
       "       [ 1.76215119,  0.48843122,  0.26964638, -0.08428399,  0.7818104 ,\n",
       "        -0.60617106]])"
      ]
     },
     "execution_count": 6,
     "metadata": {},
     "output_type": "execute_result"
    }
   ],
   "source": [
    "data"
   ]
  },
  {
   "cell_type": "code",
   "execution_count": 7,
   "metadata": {},
   "outputs": [
    {
     "data": {
      "text/plain": [
       "array([[ -4.01704419, -20.96510227,   1.79368218,   0.94770147,\n",
       "         -1.41180678,   4.89137801],\n",
       "       [  2.62770827,   0.78431271,   7.57223555,  -9.88932346,\n",
       "          2.65783745,   7.11562819],\n",
       "       [ 15.05262801, -16.81907813,  -2.53772288,   7.73443184,\n",
       "         -4.1420951 ,   9.0727025 ],\n",
       "       [ -0.5329999 ,  -2.72406953,   7.81300842,  -2.92091464,\n",
       "         10.77291346,  -5.88814088],\n",
       "       [ 17.62151189,   4.88431216,   2.69646383,  -0.84283993,\n",
       "          7.81810404,  -6.06171056]])"
      ]
     },
     "execution_count": 7,
     "metadata": {},
     "output_type": "execute_result"
    }
   ],
   "source": [
    "data*10"
   ]
  },
  {
   "cell_type": "code",
   "execution_count": 8,
   "metadata": {},
   "outputs": [
    {
     "data": {
      "text/plain": [
       "array([[-0.80340884, -4.19302045,  0.35873644,  0.18954029, -0.28236136,\n",
       "         0.9782756 ],\n",
       "       [ 0.52554165,  0.15686254,  1.51444711, -1.97786469,  0.53156749,\n",
       "         1.42312564],\n",
       "       [ 3.0105256 , -3.36381563, -0.50754458,  1.54688637, -0.82841902,\n",
       "         1.8145405 ],\n",
       "       [-0.10659998, -0.54481391,  1.56260168, -0.58418293,  2.15458269,\n",
       "        -1.17762818],\n",
       "       [ 3.52430238,  0.97686243,  0.53929277, -0.16856799,  1.56362081,\n",
       "        -1.21234211]])"
      ]
     },
     "execution_count": 8,
     "metadata": {},
     "output_type": "execute_result"
    }
   ],
   "source": [
    "data+data"
   ]
  },
  {
   "cell_type": "code",
   "execution_count": 9,
   "metadata": {},
   "outputs": [
    {
     "data": {
      "text/plain": [
       "(5, 6)"
      ]
     },
     "execution_count": 9,
     "metadata": {},
     "output_type": "execute_result"
    }
   ],
   "source": [
    "data.shape"
   ]
  },
  {
   "cell_type": "code",
   "execution_count": 10,
   "metadata": {},
   "outputs": [
    {
     "data": {
      "text/plain": [
       "dtype('float64')"
      ]
     },
     "execution_count": 10,
     "metadata": {},
     "output_type": "execute_result"
    }
   ],
   "source": [
    "data.dtype"
   ]
  },
  {
   "cell_type": "code",
   "execution_count": 11,
   "metadata": {},
   "outputs": [
    {
     "data": {
      "text/plain": [
       "array([6. , 7.5, 8. , 0. , 1. ])"
      ]
     },
     "execution_count": 11,
     "metadata": {},
     "output_type": "execute_result"
    }
   ],
   "source": [
    "data1 = [6,7.5,8,0,1]\n",
    "arr1 = np.array(data1)\n",
    "arr1"
   ]
  },
  {
   "cell_type": "code",
   "execution_count": 12,
   "metadata": {},
   "outputs": [
    {
     "data": {
      "text/plain": [
       "array([[1, 2, 3, 4],\n",
       "       [5, 6, 7, 8]])"
      ]
     },
     "execution_count": 12,
     "metadata": {},
     "output_type": "execute_result"
    }
   ],
   "source": [
    "data2 = [[1,2,3,4],[5,6,7,8]]\n",
    "arr2 = np.array(data2)\n",
    "arr2"
   ]
  },
  {
   "cell_type": "code",
   "execution_count": 13,
   "metadata": {},
   "outputs": [
    {
     "data": {
      "text/plain": [
       "2"
      ]
     },
     "execution_count": 13,
     "metadata": {},
     "output_type": "execute_result"
    }
   ],
   "source": [
    "arr2.ndim"
   ]
  },
  {
   "cell_type": "code",
   "execution_count": 14,
   "metadata": {},
   "outputs": [
    {
     "data": {
      "text/plain": [
       "(2, 4)"
      ]
     },
     "execution_count": 14,
     "metadata": {},
     "output_type": "execute_result"
    }
   ],
   "source": [
    "arr2.shape"
   ]
  },
  {
   "cell_type": "code",
   "execution_count": 16,
   "metadata": {},
   "outputs": [
    {
     "data": {
      "text/plain": [
       "array([[0., 0., 0., 0., 0., 0., 0.],\n",
       "       [0., 0., 0., 0., 0., 0., 0.],\n",
       "       [0., 0., 0., 0., 0., 0., 0.],\n",
       "       [0., 0., 0., 0., 0., 0., 0.],\n",
       "       [0., 0., 0., 0., 0., 0., 0.]])"
      ]
     },
     "execution_count": 16,
     "metadata": {},
     "output_type": "execute_result"
    }
   ],
   "source": [
    "np.zeros((5,7))"
   ]
  },
  {
   "cell_type": "code",
   "execution_count": 17,
   "metadata": {},
   "outputs": [
    {
     "data": {
      "text/plain": [
       "array([[[1.25879883e-311, 1.25874707e-311, 6.32300944e+233,\n",
       "         4.44387685e+252, 3.74168656e+233, 6.45757137e+270],\n",
       "        [8.48585409e-096, 1.96082954e+243, 5.31435408e-119,\n",
       "         1.04990427e-153, 1.15297376e-259, 8.94213159e+130],\n",
       "        [8.36280712e+165, 5.69559448e-119, 6.01347002e-154,\n",
       "         1.04990528e-153, 4.36377119e+169, 2.00007434e+174],\n",
       "        [2.88987565e+204, 6.19588734e+223, 3.99166068e+252,\n",
       "         5.15194298e-308, 1.25878164e-311, 1.25876413e-311],\n",
       "        [1.63857376e+248, 4.78179676e+180, 1.17567372e+214,\n",
       "         7.04134365e-009, 1.17234088e+214, 5.38227080e+228]],\n",
       "\n",
       "       [[1.41475216e+195, 7.79162003e+140, 6.07849924e+247,\n",
       "         9.48287275e-076, 6.99418523e-009, 4.72163065e+257],\n",
       "        [3.74857394e+233, 1.05894667e-153, 2.02646854e+267,\n",
       "         7.27432674e+199, 6.07883627e+247, 8.44306401e-053],\n",
       "        [5.60235865e-067, 8.98108651e-120, 4.83245960e+276,\n",
       "         5.14659111e-308, 1.25880017e-311, 1.25874718e-311],\n",
       "        [6.09941574e-154, 5.15186636e-308, 1.25879963e-311,\n",
       "         1.25880019e-311, 8.77757269e-313, 5.14755019e-308],\n",
       "        [1.25877911e-311, 1.25874701e-311, 1.25879840e-311,\n",
       "         1.25879840e-311, 1.25879840e-311, 0.00000000e+000]]])"
      ]
     },
     "execution_count": 17,
     "metadata": {},
     "output_type": "execute_result"
    }
   ],
   "source": [
    "np.empty((2,5,6))"
   ]
  },
  {
   "cell_type": "code",
   "execution_count": 18,
   "metadata": {},
   "outputs": [
    {
     "data": {
      "text/plain": [
       "array([ 0,  1,  2,  3,  4,  5,  6,  7,  8,  9, 10, 11, 12, 13, 14])"
      ]
     },
     "execution_count": 18,
     "metadata": {},
     "output_type": "execute_result"
    }
   ],
   "source": [
    "np.arange(15)"
   ]
  },
  {
   "cell_type": "code",
   "execution_count": null,
   "metadata": {},
   "outputs": [],
   "source": []
  },
  {
   "cell_type": "code",
   "execution_count": null,
   "metadata": {},
   "outputs": [],
   "source": []
  },
  {
   "cell_type": "code",
   "execution_count": null,
   "metadata": {},
   "outputs": [],
   "source": []
  }
 ],
 "metadata": {
  "kernelspec": {
   "display_name": "Python 3",
   "language": "python",
   "name": "python3"
  },
  "language_info": {
   "codemirror_mode": {
    "name": "ipython",
    "version": 3
   },
   "file_extension": ".py",
   "mimetype": "text/x-python",
   "name": "python",
   "nbconvert_exporter": "python",
   "pygments_lexer": "ipython3",
   "version": "3.8.3"
  }
 },
 "nbformat": 4,
 "nbformat_minor": 4
}
